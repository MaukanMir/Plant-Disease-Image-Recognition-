{
 "cells": [
  {
   "cell_type": "markdown",
   "metadata": {},
   "source": [
    "# Plant Disease Image Recognition Anaylsis"
   ]
  },
  {
   "cell_type": "markdown",
   "metadata": {},
   "source": [
    "# Imports"
   ]
  },
  {
   "cell_type": "code",
   "execution_count": 2,
   "metadata": {},
   "outputs": [],
   "source": [
    "import os\n",
    "\n",
    "import numpy as np\n",
    "import seaborn as sns\n",
    "import matplotlib.pyplot as plt\n",
    "\n",
    "from PIL import Image, ImageFile"
   ]
  },
  {
   "cell_type": "markdown",
   "metadata": {},
   "source": [
    "# Constants"
   ]
  },
  {
   "cell_type": "code",
   "execution_count": 4,
   "metadata": {},
   "outputs": [],
   "source": [
    "PATH = \"/Users/maukanmir/Downloads/archive/\"\n",
    "train_path, test_path, val_path = PATH + \"Train/\", PATH + \"Test/\", PATH +\"Validation/\"\n",
    "INPUT_SHAPE = (224,224, 3)\n",
    "BATCH_SIZE = 32"
   ]
  },
  {
   "cell_type": "markdown",
   "metadata": {},
   "source": [
    "# Functions"
   ]
  },
  {
   "cell_type": "code",
   "execution_count": 6,
   "metadata": {},
   "outputs": [],
   "source": [
    "ImageFile.LOAD_TRUNCATED_IMAGES = True\n",
    "\n",
    "def load_process_images(img_path, target_size=INPUT_SHAPE):\n",
    "  try:\n",
    "    with Image.open(img_path) as img:\n",
    "      img = img.resize(target_size[:2])\n",
    "      img = img.convert(\"RGB\")\n",
    "      \n",
    "      img_arr = np.array(img)/255.0\n",
    "      img_arr = img_arr.astype(np.float32)\n",
    "      return img_arr\n",
    "  except IOError as e:\n",
    "    print(f\"The following image failed to process {e}\")\n",
    "    return None\n",
    "\n",
    "def grab_images(path):\n",
    "  \n",
    "  X, y = [], []\n",
    "  \n",
    "  for root, dirs, files in os.walk(path):\n",
    "    for file in files:\n",
    "      if file.lower().endswith((\".png\", \".jpeg\", \".jpg\")):\n",
    "        path = os.path.join(root, file)\n",
    "        img = load_process_images(path)\n",
    "        if img is not None:\n",
    "          X.append(img)\n",
    "          label = root.split(os.sep)[-1]\n",
    "          y.append(label)\n",
    "  \n",
    "  X, y = np.array(X), np.array(y)\n",
    "  return X, y"
   ]
  },
  {
   "cell_type": "markdown",
   "metadata": {},
   "source": [
    "# Load Data"
   ]
  },
  {
   "cell_type": "code",
   "execution_count": 9,
   "metadata": {},
   "outputs": [],
   "source": [
    "X_train, y_train = grab_images(train_path)\n",
    "X_val, y_val = grab_images(val_path)\n",
    "X_test, y_test = grab_images(test_path)"
   ]
  },
  {
   "cell_type": "markdown",
   "metadata": {},
   "source": [
    "# Dataset shape"
   ]
  },
  {
   "cell_type": "code",
   "execution_count": 8,
   "metadata": {},
   "outputs": [
    {
     "name": "stdout",
     "output_type": "stream",
     "text": [
      "X Train Shape:(1322, 224, 224, 3), y Train Shape:(1322,)\n"
     ]
    }
   ],
   "source": [
    "print(f\"X Train Shape:{X_train.shape}, y Train Shape:{y_train.shape}\")\n",
    "print(f\"X Test Shape:{X_test.shape}, y Test Shape:{y_test.shape}\")\n",
    "print(f\"X Val Shape:{X_val.shape}, y Val Shape:{y_val.shape}\")"
   ]
  }
 ],
 "metadata": {
  "kernelspec": {
   "display_name": "machine-learning-env",
   "language": "python",
   "name": "python3"
  },
  "language_info": {
   "codemirror_mode": {
    "name": "ipython",
    "version": 3
   },
   "file_extension": ".py",
   "mimetype": "text/x-python",
   "name": "python",
   "nbconvert_exporter": "python",
   "pygments_lexer": "ipython3",
   "version": "3.9.19"
  }
 },
 "nbformat": 4,
 "nbformat_minor": 2
}
